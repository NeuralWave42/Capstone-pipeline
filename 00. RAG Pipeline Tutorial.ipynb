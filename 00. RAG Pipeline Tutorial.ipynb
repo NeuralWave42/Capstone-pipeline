{
 "cells": [
  {
   "cell_type": "markdown",
   "id": "d2260c1f",
   "metadata": {},
   "source": [
    "# RAG Pipeline Guide\n",
    " \n",
    "This notebook demonstrates how to use your modular RAG pipeline architecture.\n",
    "\n",
    "We'll go step by step, using only the components you've already built.\n"
   ]
  },
  {
   "cell_type": "markdown",
   "id": "1b0167d6",
   "metadata": {},
   "source": [
    "## 0. Setting up the code and the libraries"
   ]
  },
  {
   "cell_type": "markdown",
   "id": "413c4bb3",
   "metadata": {},
   "source": [
    "a. Initially you should create an .env at the root of the directory and put you OpenAI API (for this demo) in this format:\n",
    "\n",
    "OPENAI_API_KEY=your_openai_api_key_here\n",
    "\n",
    "b. install python3.9\n",
    "\n",
    "c. install the venv virtual environment\n",
    "\n",
    "python3.9 -m venv (name of environment)\n",
    "\n",
    "d. activate the venv environment\n",
    "\n",
    "source rag-pipeline/bin/activate\n",
    "\n",
    "e. Install the dependencies from the requirements.txt file\n",
    "\n",
    "pip install -r requirements.txt\n",
    "\n",
    "\n"
   ]
  },
  {
   "cell_type": "markdown",
   "id": "1e4e64b5",
   "metadata": {},
   "source": [
    "## 1. Initial Setup"
   ]
  },
  {
   "cell_type": "code",
   "execution_count": null,
   "id": "128c48c3",
   "metadata": {},
   "outputs": [
    {
     "name": "stdout",
     "output_type": "stream",
     "text": [
      "Created documents directory: ./documents\n",
      "Created data directory: ./data\n",
      "Created configs directory: ./configs\n",
      "Created results directory: ./results\n",
      "Created logs directory: ./logs\n",
      "\n",
      "Directories created\n",
      "OPENAI_API_KEY is configured\n",
      "ANTHROPIC_API_KEY is not set\n"
     ]
    }
   ],
   "source": [
    "# Basic imports\n",
    "import sys\n",
    "import os\n",
    "from pathlib import Path\n",
    "\n",
    "# Import your modules\n",
    "from core.config import ConfigManager\n",
    "from system.rag_system import ModularRAGSystem\n",
    "from utils.helpers import create_project_directories, verify_api_keys\n",
    "\n",
    "# Create directories\n",
    "directories = create_project_directories()\n",
    "print(\"\\nDirectories created\")\n",
    "\n",
    "# Verify API keys\n",
    "api_keys = verify_api_keys()\n"
   ]
  },
  {
   "cell_type": "markdown",
   "id": "b9fb7105",
   "metadata": {},
   "source": [
    "## 2. Configuration"
   ]
  },
  {
   "cell_type": "code",
   "execution_count": null,
   "id": "dcfb40c3",
   "metadata": {},
   "outputs": [
    {
     "name": "stdout",
     "output_type": "stream",
     "text": [
      "Current Configuration:\n"
     ]
    },
    {
     "data": {
      "text/markdown": [
       "### Current Configuration"
      ],
      "text/plain": [
       "<IPython.core.display.Markdown object>"
      ]
     },
     "metadata": {},
     "output_type": "display_data"
    },
    {
     "data": {
      "text/markdown": [
       "**Retriever:**"
      ],
      "text/plain": [
       "<IPython.core.display.Markdown object>"
      ]
     },
     "metadata": {},
     "output_type": "display_data"
    },
    {
     "name": "stdout",
     "output_type": "stream",
     "text": [
      "  - type: vector\n",
      "  - model: text-embedding-3-small\n",
      "  - chunk_size: 500\n",
      "  - chunk_overlap: 50\n",
      "  - top_k: 5\n",
      "  - search_type: similarity\n",
      "\n"
     ]
    },
    {
     "data": {
      "text/markdown": [
       "**Generator:**"
      ],
      "text/plain": [
       "<IPython.core.display.Markdown object>"
      ]
     },
     "metadata": {},
     "output_type": "display_data"
    },
    {
     "name": "stdout",
     "output_type": "stream",
     "text": [
      "  - provider: openai\n",
      "  - model: gpt-4o-mini\n",
      "  - temperature: 0.0\n",
      "  - max_tokens: 1000\n",
      "\n"
     ]
    },
    {
     "data": {
      "text/markdown": [
       "**Evaluation:**"
      ],
      "text/plain": [
       "<IPython.core.display.Markdown object>"
      ]
     },
     "metadata": {},
     "output_type": "display_data"
    },
    {
     "name": "stdout",
     "output_type": "stream",
     "text": [
      "  - frameworks: ['ragas']\n",
      "  - metrics: ['faithfulness', 'answer_relevancy']\n",
      "  - sample_size: None\n",
      "\n"
     ]
    },
    {
     "data": {
      "text/markdown": [
       "**Vector Store:**"
      ],
      "text/plain": [
       "<IPython.core.display.Markdown object>"
      ]
     },
     "metadata": {},
     "output_type": "display_data"
    },
    {
     "name": "stdout",
     "output_type": "stream",
     "text": [
      "  - faiss\n",
      "\n"
     ]
    },
    {
     "data": {
      "text/markdown": [
       "**Pipeline Type:**"
      ],
      "text/plain": [
       "<IPython.core.display.Markdown object>"
      ]
     },
     "metadata": {},
     "output_type": "display_data"
    },
    {
     "name": "stdout",
     "output_type": "stream",
     "text": [
      "  - linear\n",
      "\n"
     ]
    }
   ],
   "source": [
    "\n",
    "# Initialize configuration with default settings\n",
    "config_manager = ConfigManager()\n",
    "\n",
    "# Display current configuration\n",
    "print(\"Current Configuration:\")\n",
    "config_manager.display_config()\n"
   ]
  },
  {
   "cell_type": "markdown",
   "id": "59562719",
   "metadata": {},
   "source": [
    "## 3. Initialize RAG System"
   ]
  },
  {
   "cell_type": "code",
   "execution_count": null,
   "id": "a4af3775",
   "metadata": {},
   "outputs": [
    {
     "data": {
      "text/markdown": [
       "## Initializing RAG System Components"
      ],
      "text/plain": [
       "<IPython.core.display.Markdown object>"
      ]
     },
     "metadata": {},
     "output_type": "display_data"
    },
    {
     "name": "stdout",
     "output_type": "stream",
     "text": [
      "Document processor initialized\n",
      "Initialized embeddings with model: text-embedding-3-small\n",
      "Vector store manager initialized\n",
      "Component factories initialized (Retriever and Generator)\n",
      "Pipeline builder initialized\n",
      "Initialized metric: faithfulness\n",
      "Initialized metric: answer_relevancy\n",
      "Evaluation orchestrator initialized\n",
      "\n",
      "RAG System initialized successfully!\n"
     ]
    }
   ],
   "source": [
    "\n",
    "# Create the RAG system\n",
    "rag_system = ModularRAGSystem(config_manager)\n",
    "\n",
    "# Initialize all components\n",
    "rag_system.initialize_components()\n",
    "\n",
    "print(\"\\nRAG System initialized successfully!\")"
   ]
  },
  {
   "cell_type": "markdown",
   "id": "2c0228f7",
   "metadata": {},
   "source": [
    "## 4. Load and Process Documents"
   ]
  },
  {
   "cell_type": "code",
   "execution_count": null,
   "id": "f32f5eb4",
   "metadata": {},
   "outputs": [
    {
     "data": {
      "text/markdown": [
       "## Document Processing"
      ],
      "text/plain": [
       "<IPython.core.display.Markdown object>"
      ]
     },
     "metadata": {},
     "output_type": "display_data"
    },
    {
     "data": {
      "text/markdown": [
       "Loading PDFs from directory: `./documents`"
      ],
      "text/plain": [
       "<IPython.core.display.Markdown object>"
      ]
     },
     "metadata": {},
     "output_type": "display_data"
    },
    {
     "name": "stderr",
     "output_type": "stream",
     "text": [
      "Ignoring wrong pointing object 7 0 (offset 0)\n",
      "Ignoring wrong pointing object 9 0 (offset 0)\n",
      "Ignoring wrong pointing object 54 0 (offset 0)\n",
      "Ignoring wrong pointing object 236 0 (offset 0)\n",
      "Ignoring wrong pointing object 670 0 (offset 0)\n",
      "Ignoring wrong pointing object 1329 0 (offset 0)\n",
      "Ignoring wrong pointing object 1330 0 (offset 0)\n"
     ]
    },
    {
     "data": {
      "text/markdown": [
       "### Loading Summary"
      ],
      "text/plain": [
       "<IPython.core.display.Markdown object>"
      ]
     },
     "metadata": {},
     "output_type": "display_data"
    },
    {
     "name": "stdout",
     "output_type": "stream",
     "text": [
      "Loaded 224 document pages\n"
     ]
    },
    {
     "data": {
      "text/markdown": [
       "#### First Document Preview:"
      ],
      "text/plain": [
       "<IPython.core.display.Markdown object>"
      ]
     },
     "metadata": {},
     "output_type": "display_data"
    },
    {
     "name": "stdout",
     "output_type": "stream",
     "text": [
      "Source: documents/kb.pdf\n",
      "Page: 0\n",
      "Content preview: RAG KNOWLEDGE BASE \n",
      " \n",
      "Explaining the Streamlit platform \n",
      " \n",
      "1. Experiment design tab: calculating sample sizes before running an \n",
      "experiment \n",
      "Purpose: Before launching an A/B test, we want to calculate...\n"
     ]
    },
    {
     "data": {
      "text/markdown": [
       "### Chunking Summary"
      ],
      "text/plain": [
       "<IPython.core.display.Markdown object>"
      ]
     },
     "metadata": {},
     "output_type": "display_data"
    },
    {
     "name": "stdout",
     "output_type": "stream",
     "text": [
      "Created 1161 chunks from 224 documents\n",
      "Average chunk size: 418 characters\n"
     ]
    },
    {
     "data": {
      "image/png": "[encoded data removed]",
      "text/plain": [
       "<Figure size 1000x400 with 2 Axes>"
      ]
     },
     "metadata": {},
     "output_type": "display_data"
    },
    {
     "name": "stdout",
     "output_type": "stream",
     "text": [
      "\n",
      "Chunk Statistics:\n",
      "  - Min size: 26 chars\n",
      "  - Max size: 499 chars\n",
      "  - Mean size: 418 chars\n",
      "  - Total chunks: 1161\n",
      "\n",
      "Processed 1161 chunks\n"
     ]
    }
   ],
   "source": [
    "# Set the path to your documents\n",
    "PDF_PATH = \"./documents\"  # Make sure you have PDFs (the knowledge base in this case) in this folder\n",
    "\n",
    "# Check if documents exist\n",
    "if Path(PDF_PATH).exists() and list(Path(PDF_PATH).glob(\"*.pdf\")):\n",
    "    # Load and process documents\n",
    "    chunks = rag_system.load_and_process_documents(PDF_PATH)\n",
    "    print(f\"\\nProcessed {len(chunks)} chunks\")\n",
    "else:\n",
    "    print(f\"\\nNo PDF files found in {PDF_PATH}\")\n",
    "    print(\"Please add PDF files to the documents folder and run this cell again\")\n",
    "    chunks = []"
   ]
  },
  {
   "cell_type": "markdown",
   "id": "44578d0c",
   "metadata": {},
   "source": [
    "## 5. Create Vector Store"
   ]
  },
  {
   "cell_type": "code",
   "execution_count": null,
   "id": "bf02232e",
   "metadata": {},
   "outputs": [
    {
     "data": {
      "text/markdown": [
       "## Vector Store Management"
      ],
      "text/plain": [
       "<IPython.core.display.Markdown object>"
      ]
     },
     "metadata": {},
     "output_type": "display_data"
    },
    {
     "data": {
      "text/markdown": [
       "### Creating FAISS Vector Store"
      ],
      "text/plain": [
       "<IPython.core.display.Markdown object>"
      ]
     },
     "metadata": {},
     "output_type": "display_data"
    },
    {
     "name": "stdout",
     "output_type": "stream",
     "text": [
      "Processing 1161 chunks...\n",
      "FAISS index saved to: ./data/faiss_index\n",
      "Vector store created successfully\n",
      "\n",
      "Vector store created\n"
     ]
    },
    {
     "data": {
      "text/markdown": [
       "### Testing Retrieval"
      ],
      "text/plain": [
       "<IPython.core.display.Markdown object>"
      ]
     },
     "metadata": {},
     "output_type": "display_data"
    },
    {
     "name": "stdout",
     "output_type": "stream",
     "text": [
      "Query: 'What is the main topic?'\n",
      "Retrieving top 3 documents...\n",
      "\n"
     ]
    },
    {
     "data": {
      "text/markdown": [
       "#### Result 1 (Score: 1.3280)"
      ],
      "text/plain": [
       "<IPython.core.display.Markdown object>"
      ]
     },
     "metadata": {},
     "output_type": "display_data"
    },
    {
     "name": "stdout",
     "output_type": "stream",
     "text": [
      "Source: documents/kb.pdf\n",
      "Page: 89\n",
      "Chunk: 468\n",
      "Content: Why does this happen? Three main reasons:...\n",
      "\n"
     ]
    },
    {
     "data": {
      "text/markdown": [
       "#### Result 2 (Score: 1.3697)"
      ],
      "text/plain": [
       "<IPython.core.display.Markdown object>"
      ]
     },
     "metadata": {},
     "output_type": "display_data"
    },
    {
     "name": "stdout",
     "output_type": "stream",
     "text": [
      "Source: documents/kb.pdf\n",
      "Page: 22\n",
      "Chunk: 89\n",
      "Content: specific topic, or simply browse. Whatever the visitor’s goal may be, they may face some common \n",
      "pain points while achieving their goal. It can be a confusing copy or hard to find the CTA button like ...\n",
      "\n"
     ]
    },
    {
     "data": {
      "text/markdown": [
       "#### Result 3 (Score: 1.4483)"
      ],
      "text/plain": [
       "<IPython.core.display.Markdown object>"
      ]
     },
     "metadata": {},
     "output_type": "display_data"
    },
    {
     "name": "stdout",
     "output_type": "stream",
     "text": [
      "Source: documents/kb.pdf\n",
      "Page: 26\n",
      "Chunk: 122\n",
      "Content: A/B test content depth. Creating two pieces of the same content, one that’s significantly longer than \n",
      "the other, provides more details. Analyze which compels your readers the most....\n",
      "\n"
     ]
    }
   ],
   "source": [
    "# Create vector store only if we have chunks\n",
    "if chunks:\n",
    "    # Create new vector store\n",
    "    vector_store = rag_system.create_or_load_vector_store(chunks, force_rebuild=True)\n",
    "    print(\"\\nVector store created\")\n",
    "    \n",
    "    # Test retrieval\n",
    "    rag_system.vs_manager.test_retrieval(\"What is the main topic?\")\n",
    "else:\n",
    "    print(\"No chunks available. Cannot create vector store.\")"
   ]
  },
  {
   "cell_type": "markdown",
   "id": "ef7831d2",
   "metadata": {},
   "source": [
    "## 6. Build Pipeline"
   ]
  },
  {
   "cell_type": "code",
   "execution_count": null,
   "id": "fbf62e3e",
   "metadata": {},
   "outputs": [
    {
     "data": {
      "text/markdown": [
       "## Building RAG Pipeline"
      ],
      "text/plain": [
       "<IPython.core.display.Markdown object>"
      ]
     },
     "metadata": {},
     "output_type": "display_data"
    },
    {
     "name": "stdout",
     "output_type": "stream",
     "text": [
      "Created vector retriever\n",
      "Created openai generator\n",
      "Built linear pipeline\n",
      "\n",
      "Pipeline built successfully!\n"
     ]
    }
   ],
   "source": [
    "# Build a linear pipeline (simplest option)\n",
    "if rag_system.retriever_factory.vector_store:\n",
    "    pipeline = rag_system.build_pipeline(\"linear\")\n",
    "    print(\"\\nPipeline built successfully!\")\n",
    "else:\n",
    "    print(\"No vector store available. Cannot build pipeline.\")"
   ]
  },
  {
   "cell_type": "markdown",
   "id": "a71d0388",
   "metadata": {},
   "source": [
    "## 7. Test Queries"
   ]
  },
  {
   "cell_type": "code",
   "execution_count": null,
   "id": "e3d52a47",
   "metadata": {},
   "outputs": [
    {
     "data": {
      "text/markdown": [
       "### Query: What is A/B Testing?"
      ],
      "text/plain": [
       "<IPython.core.display.Markdown object>"
      ]
     },
     "metadata": {},
     "output_type": "display_data"
    },
    {
     "data": {
      "text/markdown": [
       "### Answer:\n",
       "A/B testing, also known as split testing or bucket testing, is a methodology used to compare two versions of a webpage or app to determine which one performs better. Here are the key points:\n",
       "\n",
       "- **Purpose**: It aims to improve conversion rates and increase income by identifying which version (A or B) is more effective.\n",
       "- **Process**:\n",
       "  - Two versions are created: the original (control or A) and a modified version (variation or B).\n",
       "  - Traffic is randomly split between these versions.\n",
       "  - User engagement is measured through a dashboard.\n",
       "  - Results are analyzed to see if the changes had positive, negative, or neutral effects.\n",
       "- **Applications**: A/B testing can be used to test various elements such as website layouts, email subject lines, product designs, and call-to-action button text.\n",
       "\n",
       "Overall, A/B testing allows for data-backed decisions rather than relying on guesswork, helping to optimize user experience and business metrics."
      ],
      "text/plain": [
       "<IPython.core.display.Markdown object>"
      ]
     },
     "metadata": {},
     "output_type": "display_data"
    },
    {
     "name": "stdout",
     "output_type": "stream",
     "text": [
      "\n",
      "Response time: 4.89 seconds\n",
      "Used 5 context chunks\n"
     ]
    },
    {
     "data": {
      "text/markdown": [
       "### Evaluation Results"
      ],
      "text/plain": [
       "<IPython.core.display.Markdown object>"
      ]
     },
     "metadata": {},
     "output_type": "display_data"
    },
    {
     "name": "stdout",
     "output_type": "stream",
     "text": [
      "Evaluating with reference: False\n",
      "Metrics to evaluate: ['faithfulness', 'answer_relevancy']\n",
      "Evaluating faithfulness...\n",
      "faithfulness score: 1.0\n",
      "Evaluating answer_relevancy...\n",
      "answer_relevancy score: 0.9614572833940741\n"
     ]
    },
    {
     "data": {
      "text/markdown": [
       "#### RAGAS Metrics"
      ],
      "text/plain": [
       "<IPython.core.display.Markdown object>"
      ]
     },
     "metadata": {},
     "output_type": "display_data"
    },
    {
     "data": {
      "text/html": [
       "<div>\n",
       "<style scoped>\n",
       "    .dataframe tbody tr th:only-of-type {\n",
       "        vertical-align: middle;\n",
       "    }\n",
       "\n",
       "    .dataframe tbody tr th {\n",
       "        vertical-align: top;\n",
       "    }\n",
       "\n",
       "    .dataframe thead th {\n",
       "        text-align: right;\n",
       "    }\n",
       "</style>\n",
       "<table border=\"1\" class=\"dataframe\">\n",
       "  <thead>\n",
       "    <tr style=\"text-align: right;\">\n",
       "      <th></th>\n",
       "      <th>faithfulness</th>\n",
       "      <th>answer_relevancy</th>\n",
       "    </tr>\n",
       "  </thead>\n",
       "  <tbody>\n",
       "    <tr>\n",
       "      <th>0</th>\n",
       "      <td>1.0</td>\n",
       "      <td>0.961457</td>\n",
       "    </tr>\n",
       "  </tbody>\n",
       "</table>\n",
       "</div>"
      ],
      "text/plain": [
       "   faithfulness  answer_relevancy\n",
       "0           1.0          0.961457"
      ]
     },
     "metadata": {},
     "output_type": "display_data"
    },
    {
     "data": {
      "text/markdown": [
       "#### Custom Metrics"
      ],
      "text/plain": [
       "<IPython.core.display.Markdown object>"
      ]
     },
     "metadata": {},
     "output_type": "display_data"
    },
    {
     "data": {
      "text/html": [
       "<div>\n",
       "<style scoped>\n",
       "    .dataframe tbody tr th:only-of-type {\n",
       "        vertical-align: middle;\n",
       "    }\n",
       "\n",
       "    .dataframe tbody tr th {\n",
       "        vertical-align: top;\n",
       "    }\n",
       "\n",
       "    .dataframe thead th {\n",
       "        text-align: right;\n",
       "    }\n",
       "</style>\n",
       "<table border=\"1\" class=\"dataframe\">\n",
       "  <thead>\n",
       "    <tr style=\"text-align: right;\">\n",
       "      <th></th>\n",
       "      <th>answer_length</th>\n",
       "      <th>context_coverage</th>\n",
       "      <th>response_time</th>\n",
       "    </tr>\n",
       "  </thead>\n",
       "  <tbody>\n",
       "    <tr>\n",
       "      <th>0</th>\n",
       "      <td>0.738488</td>\n",
       "      <td>0.369458</td>\n",
       "      <td>0.037495</td>\n",
       "    </tr>\n",
       "  </tbody>\n",
       "</table>\n",
       "</div>"
      ],
      "text/plain": [
       "   answer_length  context_coverage  response_time\n",
       "0       0.738488          0.369458       0.037495"
      ]
     },
     "metadata": {},
     "output_type": "display_data"
    },
    {
     "name": "stdout",
     "output_type": "stream",
     "text": [
      "\n",
      "Query Results:\n",
      "- Response time: 4.89 seconds\n",
      "- Contexts used: 5\n"
     ]
    }
   ],
   "source": [
    "# Test with a simple query\n",
    "import asyncio\n",
    "\n",
    "if rag_system.pipeline:\n",
    "    test_question = \"What is A/B Testing?\"\n",
    "    \n",
    "    # Run query\n",
    "    result = asyncio.run(rag_system.query(test_question, evaluate=True))\n",
    "    \n",
    "    print(f\"\\nQuery Results:\")\n",
    "    print(f\"- Response time: {result['response_time']:.2f} seconds\")\n",
    "    print(f\"- Contexts used: {result['num_contexts']}\")\n",
    "else:\n",
    "    print(\"Pipeline not available\")"
   ]
  },
  {
   "cell_type": "markdown",
   "id": "5168844d",
   "metadata": {},
   "source": [
    "## 8. Evaluation without References"
   ]
  },
  {
   "cell_type": "code",
   "execution_count": null,
   "id": "003f0f3f",
   "metadata": {},
   "outputs": [
    {
     "name": "stdout",
     "output_type": "stream",
     "text": [
      "Initialized metric: faithfulness\n",
      "Initialized metric: answer_relevancy\n",
      "RAGAS evaluator updated with metrics: ['faithfulness', 'answer_relevancy']\n",
      "\n",
      "Question: What is hypothesis testing?\n"
     ]
    },
    {
     "data": {
      "text/markdown": [
       "### Query: What is hypothesis testing?"
      ],
      "text/plain": [
       "<IPython.core.display.Markdown object>"
      ]
     },
     "metadata": {},
     "output_type": "display_data"
    },
    {
     "data": {
      "text/markdown": [
       "### Answer:\n",
       "Hypothesis testing, commonly known in the context of A/B testing, is a statistical procedure used to determine whether a \"speculative hypothesis\" about observed phenomena can be supported. The process involves:\n",
       "\n",
       "- Conducting tests to assess if the results align reasonably with the speculated hypothesis.\n",
       "- Assuming, by statistical convention, that the speculated hypothesis is true until evidence suggests otherwise.\n",
       "\n",
       "The focus of hypothesis testing has traditionally been on testing null hypotheses, which has been termed \"Null Hypothesis Significance Testing\" (NHST). This approach has been critiqued for its exclusive emphasis on null hypotheses, potentially overshadowing other aspects of statistical analysis. \n",
       "\n",
       "In summary, hypothesis testing is a method to evaluate the validity of a hypothesis based on observed data, with a significant historical focus on null hypotheses."
      ],
      "text/plain": [
       "<IPython.core.display.Markdown object>"
      ]
     },
     "metadata": {},
     "output_type": "display_data"
    },
    {
     "name": "stdout",
     "output_type": "stream",
     "text": [
      "\n",
      "Response time: 3.22 seconds\n",
      "Used 5 context chunks\n"
     ]
    },
    {
     "data": {
      "text/markdown": [
       "### Evaluation Results"
      ],
      "text/plain": [
       "<IPython.core.display.Markdown object>"
      ]
     },
     "metadata": {},
     "output_type": "display_data"
    },
    {
     "name": "stdout",
     "output_type": "stream",
     "text": [
      "Evaluating with reference: False\n",
      "Metrics to evaluate: ['faithfulness', 'answer_relevancy']\n",
      "Evaluating faithfulness...\n",
      "faithfulness score: 0.9090909090909091\n",
      "Evaluating answer_relevancy...\n",
      "answer_relevancy score: 0.9214423322931148\n"
     ]
    },
    {
     "data": {
      "text/markdown": [
       "#### RAGAS Metrics"
      ],
      "text/plain": [
       "<IPython.core.display.Markdown object>"
      ]
     },
     "metadata": {},
     "output_type": "display_data"
    },
    {
     "data": {
      "text/html": [
       "<div>\n",
       "<style scoped>\n",
       "    .dataframe tbody tr th:only-of-type {\n",
       "        vertical-align: middle;\n",
       "    }\n",
       "\n",
       "    .dataframe tbody tr th {\n",
       "        vertical-align: top;\n",
       "    }\n",
       "\n",
       "    .dataframe thead th {\n",
       "        text-align: right;\n",
       "    }\n",
       "</style>\n",
       "<table border=\"1\" class=\"dataframe\">\n",
       "  <thead>\n",
       "    <tr style=\"text-align: right;\">\n",
       "      <th></th>\n",
       "      <th>faithfulness</th>\n",
       "      <th>answer_relevancy</th>\n",
       "    </tr>\n",
       "  </thead>\n",
       "  <tbody>\n",
       "    <tr>\n",
       "      <th>0</th>\n",
       "      <td>0.909091</td>\n",
       "      <td>0.921442</td>\n",
       "    </tr>\n",
       "  </tbody>\n",
       "</table>\n",
       "</div>"
      ],
      "text/plain": [
       "   faithfulness  answer_relevancy\n",
       "0      0.909091          0.921442"
      ]
     },
     "metadata": {},
     "output_type": "display_data"
    },
    {
     "data": {
      "text/markdown": [
       "#### Custom Metrics"
      ],
      "text/plain": [
       "<IPython.core.display.Markdown object>"
      ]
     },
     "metadata": {},
     "output_type": "display_data"
    },
    {
     "data": {
      "text/html": [
       "<div>\n",
       "<style scoped>\n",
       "    .dataframe tbody tr th:only-of-type {\n",
       "        vertical-align: middle;\n",
       "    }\n",
       "\n",
       "    .dataframe tbody tr th {\n",
       "        vertical-align: top;\n",
       "    }\n",
       "\n",
       "    .dataframe thead th {\n",
       "        text-align: right;\n",
       "    }\n",
       "</style>\n",
       "<table border=\"1\" class=\"dataframe\">\n",
       "  <thead>\n",
       "    <tr style=\"text-align: right;\">\n",
       "      <th></th>\n",
       "      <th>answer_length</th>\n",
       "      <th>context_coverage</th>\n",
       "      <th>response_time</th>\n",
       "    </tr>\n",
       "  </thead>\n",
       "  <tbody>\n",
       "    <tr>\n",
       "      <th>0</th>\n",
       "      <td>0.684967</td>\n",
       "      <td>0.270115</td>\n",
       "      <td>0.594224</td>\n",
       "    </tr>\n",
       "  </tbody>\n",
       "</table>\n",
       "</div>"
      ],
      "text/plain": [
       "   answer_length  context_coverage  response_time\n",
       "0       0.684967          0.270115       0.594224"
      ]
     },
     "metadata": {},
     "output_type": "display_data"
    },
    {
     "name": "stdout",
     "output_type": "stream",
     "text": [
      "Evaluation complete\n",
      "\n",
      "Question: Why do we use Two-Sample T-Test?\n"
     ]
    },
    {
     "data": {
      "text/markdown": [
       "### Query: Why do we use Two-Sample T-Test?"
      ],
      "text/plain": [
       "<IPython.core.display.Markdown object>"
      ]
     },
     "metadata": {},
     "output_type": "display_data"
    },
    {
     "data": {
      "text/markdown": [
       "### Answer:\n",
       "The Two-Sample t-Test is used for the following reasons:\n",
       "\n",
       "- **Testing Population Means**: It tests whether the unknown population means of two groups are equal or not.\n",
       "- **Analyzing A/B Tests**: It is specifically used to analyze the results from A/B tests.\n",
       "- **Statistical Significance**: It determines if there is a statistically significant difference between the means of a continuous outcome in two independent groups.\n",
       "- **Hypothesis Testing**: It allows for the formulation of null and alternative hypotheses regarding the equality of group means.\n",
       "\n",
       "In summary, the Two-Sample t-Test is a method for assessing differences in means between two independent groups, particularly useful in experimental designs like A/B testing."
      ],
      "text/plain": [
       "<IPython.core.display.Markdown object>"
      ]
     },
     "metadata": {},
     "output_type": "display_data"
    },
    {
     "name": "stdout",
     "output_type": "stream",
     "text": [
      "\n",
      "Response time: 3.71 seconds\n",
      "Used 5 context chunks\n"
     ]
    },
    {
     "data": {
      "text/markdown": [
       "### Evaluation Results"
      ],
      "text/plain": [
       "<IPython.core.display.Markdown object>"
      ]
     },
     "metadata": {},
     "output_type": "display_data"
    },
    {
     "name": "stdout",
     "output_type": "stream",
     "text": [
      "Evaluating with reference: False\n",
      "Metrics to evaluate: ['faithfulness', 'answer_relevancy']\n",
      "Evaluating faithfulness...\n",
      "faithfulness score: 0.8571428571428571\n",
      "Evaluating answer_relevancy...\n",
      "answer_relevancy score: 0.9751572539379456\n"
     ]
    },
    {
     "data": {
      "text/markdown": [
       "#### RAGAS Metrics"
      ],
      "text/plain": [
       "<IPython.core.display.Markdown object>"
      ]
     },
     "metadata": {},
     "output_type": "display_data"
    },
    {
     "data": {
      "text/html": [
       "<div>\n",
       "<style scoped>\n",
       "    .dataframe tbody tr th:only-of-type {\n",
       "        vertical-align: middle;\n",
       "    }\n",
       "\n",
       "    .dataframe tbody tr th {\n",
       "        vertical-align: top;\n",
       "    }\n",
       "\n",
       "    .dataframe thead th {\n",
       "        text-align: right;\n",
       "    }\n",
       "</style>\n",
       "<table border=\"1\" class=\"dataframe\">\n",
       "  <thead>\n",
       "    <tr style=\"text-align: right;\">\n",
       "      <th></th>\n",
       "      <th>faithfulness</th>\n",
       "      <th>answer_relevancy</th>\n",
       "    </tr>\n",
       "  </thead>\n",
       "  <tbody>\n",
       "    <tr>\n",
       "      <th>0</th>\n",
       "      <td>0.857143</td>\n",
       "      <td>0.975157</td>\n",
       "    </tr>\n",
       "  </tbody>\n",
       "</table>\n",
       "</div>"
      ],
      "text/plain": [
       "   faithfulness  answer_relevancy\n",
       "0      0.857143          0.975157"
      ]
     },
     "metadata": {},
     "output_type": "display_data"
    },
    {
     "data": {
      "text/markdown": [
       "#### Custom Metrics"
      ],
      "text/plain": [
       "<IPython.core.display.Markdown object>"
      ]
     },
     "metadata": {},
     "output_type": "display_data"
    },
    {
     "data": {
      "text/html": [
       "<div>\n",
       "<style scoped>\n",
       "    .dataframe tbody tr th:only-of-type {\n",
       "        vertical-align: middle;\n",
       "    }\n",
       "\n",
       "    .dataframe tbody tr th {\n",
       "        vertical-align: top;\n",
       "    }\n",
       "\n",
       "    .dataframe thead th {\n",
       "        text-align: right;\n",
       "    }\n",
       "</style>\n",
       "<table border=\"1\" class=\"dataframe\">\n",
       "  <thead>\n",
       "    <tr style=\"text-align: right;\">\n",
       "      <th></th>\n",
       "      <th>answer_length</th>\n",
       "      <th>context_coverage</th>\n",
       "      <th>response_time</th>\n",
       "    </tr>\n",
       "  </thead>\n",
       "  <tbody>\n",
       "    <tr>\n",
       "      <th>0</th>\n",
       "      <td>0.783171</td>\n",
       "      <td>0.273333</td>\n",
       "      <td>0.42994</td>\n",
       "    </tr>\n",
       "  </tbody>\n",
       "</table>\n",
       "</div>"
      ],
      "text/plain": [
       "   answer_length  context_coverage  response_time\n",
       "0       0.783171          0.273333        0.42994"
      ]
     },
     "metadata": {},
     "output_type": "display_data"
    },
    {
     "name": "stdout",
     "output_type": "stream",
     "text": [
      "Evaluation complete\n"
     ]
    }
   ],
   "source": [
    "# Make sure we're only using metrics that don't need references\n",
    "if rag_system.pipeline:\n",
    "    # Update config to use only faithfulness and answer_relevancy\n",
    "    config_manager.config.evaluation.metrics = ['faithfulness', 'answer_relevancy']\n",
    "    \n",
    "    # Re-initialize RAGAS evaluator\n",
    "    from evaluation.ragas_evaluator import RAGASEvaluator, RAGAS_AVAILABLE\n",
    "    \n",
    "    if RAGAS_AVAILABLE:\n",
    "        rag_system.eval_orchestrator.evaluators['ragas'] = RAGASEvaluator(config_manager.config.evaluation)\n",
    "        print(\"RAGAS evaluator updated with metrics:\", config_manager.config.evaluation.metrics)\n",
    "    \n",
    "    # Test questions\n",
    "    test_questions = [\n",
    "        \"What is hypothesis testing?\",\n",
    "        \"Why do we use Two-Sample T-Test?\",\n",
    "        \"Does the data need to be normalised before using Two-Sample T-Test?\"\n",
    "    ]\n",
    "    \n",
    "    # Run evaluation\n",
    "    for question in test_questions[:2]:\n",
    "        print(f\"\\nQuestion: {question}\")\n",
    "        result = asyncio.run(rag_system.query(question, evaluate=True))\n",
    "        print(f\"Evaluation complete\")"
   ]
  },
  {
   "cell_type": "markdown",
   "id": "e849c8f8",
   "metadata": {},
   "source": [
    "## 9. Evaluation with References (Optional)"
   ]
  },
  {
   "cell_type": "code",
   "execution_count": null,
   "id": "ba574297",
   "metadata": {},
   "outputs": [
    {
     "name": "stdout",
     "output_type": "stream",
     "text": [
      "Initialized metric: faithfulness\n",
      "Initialized metric: answer_relevancy\n",
      "Initialized metric: context_precision\n",
      "Initialized metric: context_recall\n",
      "RAGAS evaluator updated with ALL metrics\n",
      "\n",
      "Question: What is hypothesis testing?\n"
     ]
    },
    {
     "data": {
      "text/markdown": [
       "### Query: What is hypothesis testing?"
      ],
      "text/plain": [
       "<IPython.core.display.Markdown object>"
      ]
     },
     "metadata": {},
     "output_type": "display_data"
    },
    {
     "data": {
      "text/markdown": [
       "### Answer:\n",
       "Hypothesis testing, commonly known in the context of A/B testing, is a statistical procedure used to determine whether a \"speculative hypothesis\" about observed phenomena can be supported. The process involves:\n",
       "\n",
       "- Conducting tests to assess if the results align reasonably with the speculated hypothesis.\n",
       "- Assuming, by statistical convention, that the speculated hypothesis is true until evidence suggests otherwise.\n",
       "\n",
       "Additionally, there is a focus on testing null hypotheses, which has been termed \"Null Hypothesis Significance Testing\" (NHST). This approach has been critiqued for its exclusive focus on null hypotheses, which may detract from broader statistical understanding. \n",
       "\n",
       "Overall, hypothesis testing serves as a framework for evaluating the validity of hypotheses based on observed data."
      ],
      "text/plain": [
       "<IPython.core.display.Markdown object>"
      ]
     },
     "metadata": {},
     "output_type": "display_data"
    },
    {
     "name": "stdout",
     "output_type": "stream",
     "text": [
      "\n",
      "Response time: 4.69 seconds\n",
      "Used 5 context chunks\n"
     ]
    },
    {
     "data": {
      "text/markdown": [
       "### Evaluation Results"
      ],
      "text/plain": [
       "<IPython.core.display.Markdown object>"
      ]
     },
     "metadata": {},
     "output_type": "display_data"
    },
    {
     "name": "stdout",
     "output_type": "stream",
     "text": [
      "Evaluating with reference: True\n",
      "Metrics to evaluate: ['faithfulness', 'answer_relevancy', 'context_precision', 'context_recall']\n",
      "Evaluating faithfulness...\n",
      "faithfulness score: 1.0\n",
      "Evaluating answer_relevancy...\n",
      "answer_relevancy score: 0.9252003802331954\n",
      "Evaluating context_precision...\n",
      "context_precision score: 0.499999999975\n",
      "Evaluating context_recall...\n",
      "context_recall score: 1.0\n"
     ]
    },
    {
     "data": {
      "text/markdown": [
       "#### RAGAS Metrics"
      ],
      "text/plain": [
       "<IPython.core.display.Markdown object>"
      ]
     },
     "metadata": {},
     "output_type": "display_data"
    },
    {
     "data": {
      "text/html": [
       "<div>\n",
       "<style scoped>\n",
       "    .dataframe tbody tr th:only-of-type {\n",
       "        vertical-align: middle;\n",
       "    }\n",
       "\n",
       "    .dataframe tbody tr th {\n",
       "        vertical-align: top;\n",
       "    }\n",
       "\n",
       "    .dataframe thead th {\n",
       "        text-align: right;\n",
       "    }\n",
       "</style>\n",
       "<table border=\"1\" class=\"dataframe\">\n",
       "  <thead>\n",
       "    <tr style=\"text-align: right;\">\n",
       "      <th></th>\n",
       "      <th>faithfulness</th>\n",
       "      <th>answer_relevancy</th>\n",
       "      <th>context_precision</th>\n",
       "      <th>context_recall</th>\n",
       "    </tr>\n",
       "  </thead>\n",
       "  <tbody>\n",
       "    <tr>\n",
       "      <th>0</th>\n",
       "      <td>1.0</td>\n",
       "      <td>0.9252</td>\n",
       "      <td>0.5</td>\n",
       "      <td>1.0</td>\n",
       "    </tr>\n",
       "  </tbody>\n",
       "</table>\n",
       "</div>"
      ],
      "text/plain": [
       "   faithfulness  answer_relevancy  context_precision  context_recall\n",
       "0           1.0            0.9252                0.5             1.0"
      ]
     },
     "metadata": {},
     "output_type": "display_data"
    },
    {
     "data": {
      "text/markdown": [
       "#### Custom Metrics"
      ],
      "text/plain": [
       "<IPython.core.display.Markdown object>"
      ]
     },
     "metadata": {},
     "output_type": "display_data"
    },
    {
     "data": {
      "text/html": [
       "<div>\n",
       "<style scoped>\n",
       "    .dataframe tbody tr th:only-of-type {\n",
       "        vertical-align: middle;\n",
       "    }\n",
       "\n",
       "    .dataframe tbody tr th {\n",
       "        vertical-align: top;\n",
       "    }\n",
       "\n",
       "    .dataframe thead th {\n",
       "        text-align: right;\n",
       "    }\n",
       "</style>\n",
       "<table border=\"1\" class=\"dataframe\">\n",
       "  <thead>\n",
       "    <tr style=\"text-align: right;\">\n",
       "      <th></th>\n",
       "      <th>answer_length</th>\n",
       "      <th>context_coverage</th>\n",
       "      <th>response_time</th>\n",
       "    </tr>\n",
       "  </thead>\n",
       "  <tbody>\n",
       "    <tr>\n",
       "      <th>0</th>\n",
       "      <td>0.737558</td>\n",
       "      <td>0.281609</td>\n",
       "      <td>0.103352</td>\n",
       "    </tr>\n",
       "  </tbody>\n",
       "</table>\n",
       "</div>"
      ],
      "text/plain": [
       "   answer_length  context_coverage  response_time\n",
       "0       0.737558          0.281609       0.103352"
      ]
     },
     "metadata": {},
     "output_type": "display_data"
    },
    {
     "name": "stdout",
     "output_type": "stream",
     "text": [
      "\n",
      "Question: Why do we use Two-Sample T-Test?\n"
     ]
    },
    {
     "data": {
      "text/markdown": [
       "### Query: Why do we use Two-Sample T-Test?"
      ],
      "text/plain": [
       "<IPython.core.display.Markdown object>"
      ]
     },
     "metadata": {},
     "output_type": "display_data"
    },
    {
     "data": {
      "text/markdown": [
       "### Answer:\n",
       "The Two-Sample t-Test is used for the following reasons:\n",
       "\n",
       "- **Testing Population Means**: It tests whether the unknown population means of two groups are equal or not.\n",
       "- **Analyzing A/B Tests**: It is specifically used to analyze the results from A/B tests.\n",
       "- **Statistical Significance**: It determines if there is a statistically significant difference between the means of a continuous outcome in two independent groups.\n",
       "- **Hypothesis Testing**: It allows for the formulation of null and alternative hypotheses regarding the equality of group means.\n",
       "\n",
       "In summary, the Two-Sample t-Test is a method for assessing differences in means between two independent groups, particularly useful in experimental designs like A/B testing."
      ],
      "text/plain": [
       "<IPython.core.display.Markdown object>"
      ]
     },
     "metadata": {},
     "output_type": "display_data"
    },
    {
     "name": "stdout",
     "output_type": "stream",
     "text": [
      "\n",
      "Response time: 4.60 seconds\n",
      "Used 5 context chunks\n"
     ]
    },
    {
     "data": {
      "text/markdown": [
       "### Evaluation Results"
      ],
      "text/plain": [
       "<IPython.core.display.Markdown object>"
      ]
     },
     "metadata": {},
     "output_type": "display_data"
    },
    {
     "name": "stdout",
     "output_type": "stream",
     "text": [
      "Evaluating with reference: True\n",
      "Metrics to evaluate: ['faithfulness', 'answer_relevancy', 'context_precision', 'context_recall']\n",
      "Evaluating faithfulness...\n",
      "faithfulness score: 0.8571428571428571\n",
      "Evaluating answer_relevancy...\n",
      "answer_relevancy score: 0.9752421485015194\n",
      "Evaluating context_precision...\n",
      "context_precision score: 0.9999999999666667\n",
      "Evaluating context_recall...\n",
      "context_recall score: 1.0\n"
     ]
    },
    {
     "data": {
      "text/markdown": [
       "#### RAGAS Metrics"
      ],
      "text/plain": [
       "<IPython.core.display.Markdown object>"
      ]
     },
     "metadata": {},
     "output_type": "display_data"
    },
    {
     "data": {
      "text/html": [
       "<div>\n",
       "<style scoped>\n",
       "    .dataframe tbody tr th:only-of-type {\n",
       "        vertical-align: middle;\n",
       "    }\n",
       "\n",
       "    .dataframe tbody tr th {\n",
       "        vertical-align: top;\n",
       "    }\n",
       "\n",
       "    .dataframe thead th {\n",
       "        text-align: right;\n",
       "    }\n",
       "</style>\n",
       "<table border=\"1\" class=\"dataframe\">\n",
       "  <thead>\n",
       "    <tr style=\"text-align: right;\">\n",
       "      <th></th>\n",
       "      <th>faithfulness</th>\n",
       "      <th>answer_relevancy</th>\n",
       "      <th>context_precision</th>\n",
       "      <th>context_recall</th>\n",
       "    </tr>\n",
       "  </thead>\n",
       "  <tbody>\n",
       "    <tr>\n",
       "      <th>0</th>\n",
       "      <td>0.857143</td>\n",
       "      <td>0.975242</td>\n",
       "      <td>1.0</td>\n",
       "      <td>1.0</td>\n",
       "    </tr>\n",
       "  </tbody>\n",
       "</table>\n",
       "</div>"
      ],
      "text/plain": [
       "   faithfulness  answer_relevancy  context_precision  context_recall\n",
       "0      0.857143          0.975242                1.0             1.0"
      ]
     },
     "metadata": {},
     "output_type": "display_data"
    },
    {
     "data": {
      "text/markdown": [
       "#### Custom Metrics"
      ],
      "text/plain": [
       "<IPython.core.display.Markdown object>"
      ]
     },
     "metadata": {},
     "output_type": "display_data"
    },
    {
     "data": {
      "text/html": [
       "<div>\n",
       "<style scoped>\n",
       "    .dataframe tbody tr th:only-of-type {\n",
       "        vertical-align: middle;\n",
       "    }\n",
       "\n",
       "    .dataframe tbody tr th {\n",
       "        vertical-align: top;\n",
       "    }\n",
       "\n",
       "    .dataframe thead th {\n",
       "        text-align: right;\n",
       "    }\n",
       "</style>\n",
       "<table border=\"1\" class=\"dataframe\">\n",
       "  <thead>\n",
       "    <tr style=\"text-align: right;\">\n",
       "      <th></th>\n",
       "      <th>answer_length</th>\n",
       "      <th>context_coverage</th>\n",
       "      <th>response_time</th>\n",
       "    </tr>\n",
       "  </thead>\n",
       "  <tbody>\n",
       "    <tr>\n",
       "      <th>0</th>\n",
       "      <td>0.783171</td>\n",
       "      <td>0.273333</td>\n",
       "      <td>0.133017</td>\n",
       "    </tr>\n",
       "  </tbody>\n",
       "</table>\n",
       "</div>"
      ],
      "text/plain": [
       "   answer_length  context_coverage  response_time\n",
       "0       0.783171          0.273333       0.133017"
      ]
     },
     "metadata": {},
     "output_type": "display_data"
    },
    {
     "name": "stdout",
     "output_type": "stream",
     "text": [
      "\n",
      "Question: Does the data need to be normalised before using Two-Sample T-Test?\n"
     ]
    },
    {
     "data": {
      "text/markdown": [
       "### Query: Does the data need to be normalised before using Two-Sample T-Test?"
      ],
      "text/plain": [
       "<IPython.core.display.Markdown object>"
      ]
     },
     "metadata": {},
     "output_type": "display_data"
    },
    {
     "data": {
      "text/markdown": [
       "### Answer:\n",
       "The data does not necessarily need to be normalized before using the Two-Sample T-Test. The context states that if normality cannot be assumed, one can perform a nonparametric test instead. Specifically, it mentions:\n",
       "\n",
       "- \"When you cannot safely assume normality, you can perform a nonparametric test that doesn’t assume normality.\"\n",
       "- \"What if you know the underlying measurements are not normally distributed? ... you can use nonparametric analyses.\"\n",
       "\n",
       "Thus, while normality is an assumption for the t-test, it is not a strict requirement if nonparametric methods are used instead."
      ],
      "text/plain": [
       "<IPython.core.display.Markdown object>"
      ]
     },
     "metadata": {},
     "output_type": "display_data"
    },
    {
     "name": "stdout",
     "output_type": "stream",
     "text": [
      "\n",
      "Response time: 3.95 seconds\n",
      "Used 5 context chunks\n"
     ]
    },
    {
     "data": {
      "text/markdown": [
       "### Evaluation Results"
      ],
      "text/plain": [
       "<IPython.core.display.Markdown object>"
      ]
     },
     "metadata": {},
     "output_type": "display_data"
    },
    {
     "name": "stdout",
     "output_type": "stream",
     "text": [
      "Evaluating with reference: True\n",
      "Metrics to evaluate: ['faithfulness', 'answer_relevancy', 'context_precision', 'context_recall']\n",
      "Evaluating faithfulness...\n",
      "faithfulness score: 1.0\n",
      "Evaluating answer_relevancy...\n",
      "answer_relevancy score: 0.0\n",
      "Evaluating context_precision...\n",
      "context_precision score: 0.9999999999666667\n",
      "Evaluating context_recall...\n",
      "context_recall score: 1.0\n"
     ]
    },
    {
     "data": {
      "text/markdown": [
       "#### RAGAS Metrics"
      ],
      "text/plain": [
       "<IPython.core.display.Markdown object>"
      ]
     },
     "metadata": {},
     "output_type": "display_data"
    },
    {
     "data": {
      "text/html": [
       "<div>\n",
       "<style scoped>\n",
       "    .dataframe tbody tr th:only-of-type {\n",
       "        vertical-align: middle;\n",
       "    }\n",
       "\n",
       "    .dataframe tbody tr th {\n",
       "        vertical-align: top;\n",
       "    }\n",
       "\n",
       "    .dataframe thead th {\n",
       "        text-align: right;\n",
       "    }\n",
       "</style>\n",
       "<table border=\"1\" class=\"dataframe\">\n",
       "  <thead>\n",
       "    <tr style=\"text-align: right;\">\n",
       "      <th></th>\n",
       "      <th>faithfulness</th>\n",
       "      <th>answer_relevancy</th>\n",
       "      <th>context_precision</th>\n",
       "      <th>context_recall</th>\n",
       "    </tr>\n",
       "  </thead>\n",
       "  <tbody>\n",
       "    <tr>\n",
       "      <th>0</th>\n",
       "      <td>1.0</td>\n",
       "      <td>0.0</td>\n",
       "      <td>1.0</td>\n",
       "      <td>1.0</td>\n",
       "    </tr>\n",
       "  </tbody>\n",
       "</table>\n",
       "</div>"
      ],
      "text/plain": [
       "   faithfulness  answer_relevancy  context_precision  context_recall\n",
       "0           1.0               0.0                1.0             1.0"
      ]
     },
     "metadata": {},
     "output_type": "display_data"
    },
    {
     "data": {
      "text/markdown": [
       "#### Custom Metrics"
      ],
      "text/plain": [
       "<IPython.core.display.Markdown object>"
      ]
     },
     "metadata": {},
     "output_type": "display_data"
    },
    {
     "data": {
      "text/html": [
       "<div>\n",
       "<style scoped>\n",
       "    .dataframe tbody tr th:only-of-type {\n",
       "        vertical-align: middle;\n",
       "    }\n",
       "\n",
       "    .dataframe tbody tr th {\n",
       "        vertical-align: top;\n",
       "    }\n",
       "\n",
       "    .dataframe thead th {\n",
       "        text-align: right;\n",
       "    }\n",
       "</style>\n",
       "<table border=\"1\" class=\"dataframe\">\n",
       "  <thead>\n",
       "    <tr style=\"text-align: right;\">\n",
       "      <th></th>\n",
       "      <th>answer_length</th>\n",
       "      <th>context_coverage</th>\n",
       "      <th>response_time</th>\n",
       "    </tr>\n",
       "  </thead>\n",
       "  <tbody>\n",
       "    <tr>\n",
       "      <th>0</th>\n",
       "      <td>0.929331</td>\n",
       "      <td>0.195652</td>\n",
       "      <td>0.351047</td>\n",
       "    </tr>\n",
       "  </tbody>\n",
       "</table>\n",
       "</div>"
      ],
      "text/plain": [
       "   answer_length  context_coverage  response_time\n",
       "0       0.929331          0.195652       0.351047"
      ]
     },
     "metadata": {},
     "output_type": "display_data"
    }
   ],
   "source": [
    "# If you want to test all RAGAS metrics, you need reference answers\n",
    "test_with_references = [\n",
    "    {\n",
    "        \"question\": \"What is hypothesis testing?\",\n",
    "        \"reference\": \"Hypothesis testing is a statistical method used to make inferences or draw conclusions about a population based on sample data. It involves formulating a null and an alternative hypothesis and using data to decide which hypothesis is more likely.\"\n",
    "    },\n",
    "    {\n",
    "        \"question\": \"Why do we use Two-Sample T-Test?\",\n",
    "        \"reference\": \"A Two-Sample T-Test is used to compare the means of two independent groups to determine if there is statistical evidence that the associated population means are significantly different. It helps evaluate whether observed differences in sample means reflect real differences in population means or are due to random chance.\"\n",
    "    },\n",
    "    {\n",
    "        \"question\": \"Does the data need to be normalised before using Two-Sample T-Test?\",\n",
    "        \"reference\": \"Normalization is not strictly required for a Two-Sample T-Test, but the data should be approximately normally distributed, especially for small sample sizes. The test also assumes equal variances in the two groups unless you use Welch’s T-Test, which adjusts for unequal variances.\"\n",
    "    }\n",
    "]\n",
    "\n",
    "\n",
    "# First, update config to include all metrics\n",
    "config_manager.config.evaluation.metrics = ['faithfulness', 'answer_relevancy', 'context_precision', 'context_recall']\n",
    "\n",
    "# Re-initialize evaluator with all metrics\n",
    "if RAGAS_AVAILABLE:\n",
    "    rag_system.eval_orchestrator.evaluators['ragas'] = RAGASEvaluator(config_manager.config.evaluation)\n",
    "    print(\"RAGAS evaluator updated with ALL metrics\")\n",
    "\n",
    "# Run evaluation with reference\n",
    "for item in test_with_references:\n",
    "    print(f\"\\nQuestion: {item['question']}\")\n",
    "    result = asyncio.run(rag_system.query(\n",
    "        item['question'], \n",
    "        evaluate=True, \n",
    "        reference=item['reference']  # Pass reference for full evaluation\n",
    "    ))"
   ]
  },
  {
   "cell_type": "markdown",
   "id": "397435ee",
   "metadata": {},
   "source": [
    "## 10. View Results"
   ]
  },
  {
   "cell_type": "code",
   "execution_count": null,
   "id": "ae1939ae",
   "metadata": {},
   "outputs": [
    {
     "name": "stdout",
     "output_type": "stream",
     "text": [
      "\n",
      "Evaluation Summary:\n",
      "                    timestamp  \\\n",
      "0  2025-07-22T12:55:42.571788   \n",
      "1  2025-07-22T12:56:16.517263   \n",
      "2  2025-07-22T12:58:33.786713   \n",
      "3  2025-07-22T12:58:57.610086   \n",
      "4  2025-07-22T13:00:48.324819   \n",
      "5  2025-07-22T13:01:26.950680   \n",
      "6  2025-07-22T13:01:58.483422   \n",
      "\n",
      "                                            question  response_time  \\\n",
      "0           What is the main topic of this document?       8.685106   \n",
      "1                               What is A/B Testing?       4.887515   \n",
      "2                        What is hypothesis testing?       3.217328   \n",
      "3                   Why do we use Two-Sample T-Test?       3.710181   \n",
      "4                        What is hypothesis testing?       4.689944   \n",
      "5                   Why do we use Two-Sample T-Test?       4.600950   \n",
      "6  Does the data need to be normalised before usi...       3.946858   \n",
      "\n",
      "   ragas_faithfulness  ragas_answer_relevancy  custom_answer_length  \\\n",
      "0            1.000000                0.869471              0.490036   \n",
      "1            1.000000                0.961457              0.738488   \n",
      "2            0.909091                0.921442              0.684967   \n",
      "3            0.857143                0.975157              0.783171   \n",
      "4            1.000000                0.925200              0.737558   \n",
      "5            0.857143                0.975242              0.783171   \n",
      "6            1.000000                0.000000              0.929331   \n",
      "\n",
      "   custom_context_coverage  custom_response_time  ragas_context_precision  \\\n",
      "0                 0.262195              0.631489                      NaN   \n",
      "1                 0.369458              0.037495                      NaN   \n",
      "2                 0.270115              0.594224                      NaN   \n",
      "3                 0.273333              0.429940                      NaN   \n",
      "4                 0.281609              0.103352                      0.5   \n",
      "5                 0.273333              0.133017                      1.0   \n",
      "6                 0.195652              0.351047                      1.0   \n",
      "\n",
      "   ragas_context_recall  \n",
      "0                   NaN  \n",
      "1                   NaN  \n",
      "2                   NaN  \n",
      "3                   NaN  \n",
      "4                   1.0  \n",
      "5                   1.0  \n",
      "6                   1.0  \n"
     ]
    },
    {
     "data": {
      "image/png": "[encoded data removed]",
      "text/plain": [
       "<Figure size 1600x1000 with 6 Axes>"
      ]
     },
     "metadata": {},
     "output_type": "display_data"
    }
   ],
   "source": [
    "# Get evaluation summary\n",
    "if rag_system.eval_orchestrator.results_history:\n",
    "    from analysis.results import ResultsAnalyzer\n",
    "    \n",
    "    results_analyzer = ResultsAnalyzer(rag_system.eval_orchestrator)\n",
    "    \n",
    "    # Show summary\n",
    "    summary_df = rag_system.eval_orchestrator.get_results_summary()\n",
    "    print(\"\\nEvaluation Summary:\")\n",
    "    print(summary_df)\n",
    "    \n",
    "    # Create visualizations\n",
    "    results_analyzer.create_performance_dashboard()\n",
    "else:\n",
    "    print(\"No evaluation results yet\")"
   ]
  }
 ],
 "metadata": {
  "kernelspec": {
   "display_name": "capstone-pip",
   "language": "python",
   "name": "python3"
  },
  "language_info": {
   "codemirror_mode": {
    "name": "ipython",
    "version": 3
   },
   "file_extension": ".py",
   "mimetype": "text/x-python",
   "name": "python",
   "nbconvert_exporter": "python",
   "pygments_lexer": "ipython3",
   "version": "3.9.23"
  }
 },
 "nbformat": 4,
 "nbformat_minor": 5
}
